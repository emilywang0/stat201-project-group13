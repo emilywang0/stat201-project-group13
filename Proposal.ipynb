{
 "cells": [
  {
   "cell_type": "markdown",
   "id": "73091353-b2f9-4898-9c59-4ddc1aea34a6",
   "metadata": {
    "tags": []
   },
   "source": [
    "# Vancouver Crime in Relation to Wealth"
   ]
  },
  {
   "cell_type": "markdown",
   "id": "8ed0ba7a-9267-4c57-b87b-ecdfc052e815",
   "metadata": {
    "tags": []
   },
   "source": [
    "### Group 13 Project Proposal\n",
    "#### Introduction\n",
    "\n",
    "In recent years, the picturesque city of Vancouver has been grappling with a mounting concern as crime, with a notable surge in theft cases, has become an increasingly prevalent issue, posing challenges to the safety and security of its residents. CTV news reported on October 27th of this year that 258 arrests were made in a 2-week period as the Vancouver police department continue the shoplifting crackdown[1]. On October 30th, the B.C. Coalition called for immediate government action on theft, vandalism and violent crime, and its members say they have reached \"epidemic proportions'' across the province[2].\n",
    "\n",
    "Given the prevalent issue, in our project, we will be answering the question: “how do rates of theft differ in different neighbourhoods in Vancouver?”. We will be using the crime data set [3] from 2003 to 2023 released by the VPD, to investigate the number of incidents of robbery, theft of motor vehicles, theft from automotives, and theft under $5,000. The two neighbourhoods we will be comparing the theft rates of are: Strathcona(more commonly known as downtown east side), the poorest neighbourhood in Vancouver, according to Wikipedia[4] and CBC[5],  and Kerrisdale, which is one of the richest neighbourhoods in Vancouver[6][7]. Our location parameter of interest will be the mean value, and our scale parameter of interest will be the standard deviation. We believe that these two parameters will help us answer our question at hand, in comparing the rates of theft of the two neighbourhoods. \n"
   ]
  },
  {
   "cell_type": "code",
   "execution_count": 1,
   "id": "828c3ccc-aa4f-4866-90ef-46b12e59fb25",
   "metadata": {
    "tags": []
   },
   "outputs": [
    {
     "name": "stderr",
     "output_type": "stream",
     "text": [
      "── \u001b[1mAttaching core tidyverse packages\u001b[22m ──────────────────────── tidyverse 2.0.0 ──\n",
      "\u001b[32m✔\u001b[39m \u001b[34mdplyr    \u001b[39m 1.1.3     \u001b[32m✔\u001b[39m \u001b[34mreadr    \u001b[39m 2.1.4\n",
      "\u001b[32m✔\u001b[39m \u001b[34mforcats  \u001b[39m 1.0.0     \u001b[32m✔\u001b[39m \u001b[34mstringr  \u001b[39m 1.5.0\n",
      "\u001b[32m✔\u001b[39m \u001b[34mggplot2  \u001b[39m 3.4.3     \u001b[32m✔\u001b[39m \u001b[34mtibble   \u001b[39m 3.2.1\n",
      "\u001b[32m✔\u001b[39m \u001b[34mlubridate\u001b[39m 1.9.2     \u001b[32m✔\u001b[39m \u001b[34mtidyr    \u001b[39m 1.3.0\n",
      "\u001b[32m✔\u001b[39m \u001b[34mpurrr    \u001b[39m 1.0.1     \n",
      "── \u001b[1mConflicts\u001b[22m ────────────────────────────────────────── tidyverse_conflicts() ──\n",
      "\u001b[31m✖\u001b[39m \u001b[34mdplyr\u001b[39m::\u001b[32mfilter()\u001b[39m masks \u001b[34mstats\u001b[39m::filter()\n",
      "\u001b[31m✖\u001b[39m \u001b[34mdplyr\u001b[39m::\u001b[32mlag()\u001b[39m    masks \u001b[34mstats\u001b[39m::lag()\n",
      "\u001b[36mℹ\u001b[39m Use the conflicted package (\u001b[3m\u001b[34m<http://conflicted.r-lib.org/>\u001b[39m\u001b[23m) to force all conflicts to become errors\n",
      "── \u001b[1mAttaching packages\u001b[22m ────────────────────────────────────── tidymodels 1.1.1 ──\n",
      "\n",
      "\u001b[32m✔\u001b[39m \u001b[34mbroom       \u001b[39m 1.0.5     \u001b[32m✔\u001b[39m \u001b[34mrsample     \u001b[39m 1.2.0\n",
      "\u001b[32m✔\u001b[39m \u001b[34mdials       \u001b[39m 1.2.0     \u001b[32m✔\u001b[39m \u001b[34mtune        \u001b[39m 1.1.2\n",
      "\u001b[32m✔\u001b[39m \u001b[34minfer       \u001b[39m 1.0.4     \u001b[32m✔\u001b[39m \u001b[34mworkflows   \u001b[39m 1.1.3\n",
      "\u001b[32m✔\u001b[39m \u001b[34mmodeldata   \u001b[39m 1.2.0     \u001b[32m✔\u001b[39m \u001b[34mworkflowsets\u001b[39m 1.0.1\n",
      "\u001b[32m✔\u001b[39m \u001b[34mparsnip     \u001b[39m 1.1.1     \u001b[32m✔\u001b[39m \u001b[34myardstick   \u001b[39m 1.2.0\n",
      "\u001b[32m✔\u001b[39m \u001b[34mrecipes     \u001b[39m 1.0.8     \n",
      "\n",
      "── \u001b[1mConflicts\u001b[22m ───────────────────────────────────────── tidymodels_conflicts() ──\n",
      "\u001b[31m✖\u001b[39m \u001b[34mscales\u001b[39m::\u001b[32mdiscard()\u001b[39m masks \u001b[34mpurrr\u001b[39m::discard()\n",
      "\u001b[31m✖\u001b[39m \u001b[34mdplyr\u001b[39m::\u001b[32mfilter()\u001b[39m   masks \u001b[34mstats\u001b[39m::filter()\n",
      "\u001b[31m✖\u001b[39m \u001b[34mrecipes\u001b[39m::\u001b[32mfixed()\u001b[39m  masks \u001b[34mstringr\u001b[39m::fixed()\n",
      "\u001b[31m✖\u001b[39m \u001b[34mdplyr\u001b[39m::\u001b[32mlag()\u001b[39m      masks \u001b[34mstats\u001b[39m::lag()\n",
      "\u001b[31m✖\u001b[39m \u001b[34myardstick\u001b[39m::\u001b[32mspec()\u001b[39m masks \u001b[34mreadr\u001b[39m::spec()\n",
      "\u001b[31m✖\u001b[39m \u001b[34mrecipes\u001b[39m::\u001b[32mstep()\u001b[39m   masks \u001b[34mstats\u001b[39m::step()\n",
      "\u001b[34m•\u001b[39m Dig deeper into tidy modeling with R at \u001b[32mhttps://www.tmwr.org\u001b[39m\n",
      "\n",
      "\n",
      "Attaching package: ‘cowplot’\n",
      "\n",
      "\n",
      "The following object is masked from ‘package:lubridate’:\n",
      "\n",
      "    stamp\n",
      "\n",
      "\n",
      "Registered S3 method overwritten by 'GGally':\n",
      "  method from   \n",
      "  +.gg   ggplot2\n",
      "\n"
     ]
    }
   ],
   "source": [
    "# Setup\n",
    "set.seed(3)\n",
    "\n",
    "library(tidyverse)\n",
    "library(tidymodels)\n",
    "library(repr)\n",
    "library(cowplot)\n",
    "library(GGally)\n",
    "library(ISLR)\n",
    "options(repr.matrix.max.rows = 6)"
   ]
  },
  {
   "cell_type": "markdown",
   "id": "3a3a6be8-ba0a-4c2f-a18a-3f9f8d22d53d",
   "metadata": {},
   "source": [
    "#### Reading Data\n",
    "\n",
    "The first step is to read in our data set from the web using the 'read_csv' function. The datasets were originally downloaded from \"https://geodash.vpd.ca/opendata\", where the data for Kerrisdale and Strathcona were in seperate csv's. So, we read the two csv's seperately and then merged them together into a single data frame using rbind. Our raw dataset also contained a lot of unnecessary columns like the exact time (MONTH, DAY, HOUR, MINUTE) and the precise location (HUNDRED_BLOCK, X, Y) of the crime committed, so we selected only the relevant columns to our study such as \"TYPE\", \"YEAR\", and \"NEIGHBOURHOOD\".\n"
   ]
  },
  {
   "cell_type": "code",
   "execution_count": 19,
   "id": "a92ffd9c-ce38-4441-a208-3f7764b40a5b",
   "metadata": {
    "tags": []
   },
   "outputs": [
    {
     "name": "stderr",
     "output_type": "stream",
     "text": [
      "\u001b[1mRows: \u001b[22m\u001b[34m11506\u001b[39m \u001b[1mColumns: \u001b[22m\u001b[34m10\u001b[39m\n",
      "\u001b[36m──\u001b[39m \u001b[1mColumn specification\u001b[22m \u001b[36m────────────────────────────────────────────────────────\u001b[39m\n",
      "\u001b[1mDelimiter:\u001b[22m \",\"\n",
      "\u001b[31mchr\u001b[39m (3): TYPE, HUNDRED_BLOCK, NEIGHBOURHOOD\n",
      "\u001b[32mdbl\u001b[39m (7): YEAR, MONTH, DAY, HOUR, MINUTE, X, Y\n",
      "\n",
      "\u001b[36mℹ\u001b[39m Use `spec()` to retrieve the full column specification for this data.\n",
      "\u001b[36mℹ\u001b[39m Specify the column types or set `show_col_types = FALSE` to quiet this message.\n",
      "\u001b[1mRows: \u001b[22m\u001b[34m56640\u001b[39m \u001b[1mColumns: \u001b[22m\u001b[34m10\u001b[39m\n",
      "\u001b[36m──\u001b[39m \u001b[1mColumn specification\u001b[22m \u001b[36m────────────────────────────────────────────────────────\u001b[39m\n",
      "\u001b[1mDelimiter:\u001b[22m \",\"\n",
      "\u001b[31mchr\u001b[39m (3): TYPE, HUNDRED_BLOCK, NEIGHBOURHOOD\n",
      "\u001b[32mdbl\u001b[39m (7): YEAR, MONTH, DAY, HOUR, MINUTE, X, Y\n",
      "\n",
      "\u001b[36mℹ\u001b[39m Use `spec()` to retrieve the full column specification for this data.\n",
      "\u001b[36mℹ\u001b[39m Specify the column types or set `show_col_types = FALSE` to quiet this message.\n"
     ]
    },
    {
     "name": "stdout",
     "output_type": "stream",
     "text": [
      "[1] \"Table 1: 2003-2023 Crime Data in Kerrisdale and Stratcona\"\n"
     ]
    },
    {
     "data": {
      "text/html": [
       "<table class=\"dataframe\">\n",
       "<caption>A tibble: 6 × 3</caption>\n",
       "<thead>\n",
       "\t<tr><th scope=col>TYPE</th><th scope=col>YEAR</th><th scope=col>NEIGHBOURHOOD</th></tr>\n",
       "\t<tr><th scope=col>&lt;chr&gt;</th><th scope=col>&lt;dbl&gt;</th><th scope=col>&lt;chr&gt;</th></tr>\n",
       "</thead>\n",
       "<tbody>\n",
       "\t<tr><td>Break and Enter Commercial</td><td>2017</td><td>Kerrisdale</td></tr>\n",
       "\t<tr><td>Break and Enter Commercial</td><td>2020</td><td>Kerrisdale</td></tr>\n",
       "\t<tr><td>Break and Enter Commercial</td><td>2020</td><td>Kerrisdale</td></tr>\n",
       "\t<tr><td>Break and Enter Commercial</td><td>2007</td><td>Kerrisdale</td></tr>\n",
       "\t<tr><td>Break and Enter Commercial</td><td>2006</td><td>Kerrisdale</td></tr>\n",
       "\t<tr><td>Break and Enter Commercial</td><td>2020</td><td>Kerrisdale</td></tr>\n",
       "</tbody>\n",
       "</table>\n"
      ],
      "text/latex": [
       "A tibble: 6 × 3\n",
       "\\begin{tabular}{lll}\n",
       " TYPE & YEAR & NEIGHBOURHOOD\\\\\n",
       " <chr> & <dbl> & <chr>\\\\\n",
       "\\hline\n",
       "\t Break and Enter Commercial & 2017 & Kerrisdale\\\\\n",
       "\t Break and Enter Commercial & 2020 & Kerrisdale\\\\\n",
       "\t Break and Enter Commercial & 2020 & Kerrisdale\\\\\n",
       "\t Break and Enter Commercial & 2007 & Kerrisdale\\\\\n",
       "\t Break and Enter Commercial & 2006 & Kerrisdale\\\\\n",
       "\t Break and Enter Commercial & 2020 & Kerrisdale\\\\\n",
       "\\end{tabular}\n"
      ],
      "text/markdown": [
       "\n",
       "A tibble: 6 × 3\n",
       "\n",
       "| TYPE &lt;chr&gt; | YEAR &lt;dbl&gt; | NEIGHBOURHOOD &lt;chr&gt; |\n",
       "|---|---|---|\n",
       "| Break and Enter Commercial | 2017 | Kerrisdale |\n",
       "| Break and Enter Commercial | 2020 | Kerrisdale |\n",
       "| Break and Enter Commercial | 2020 | Kerrisdale |\n",
       "| Break and Enter Commercial | 2007 | Kerrisdale |\n",
       "| Break and Enter Commercial | 2006 | Kerrisdale |\n",
       "| Break and Enter Commercial | 2020 | Kerrisdale |\n",
       "\n"
      ],
      "text/plain": [
       "  TYPE                       YEAR NEIGHBOURHOOD\n",
       "1 Break and Enter Commercial 2017 Kerrisdale   \n",
       "2 Break and Enter Commercial 2020 Kerrisdale   \n",
       "3 Break and Enter Commercial 2020 Kerrisdale   \n",
       "4 Break and Enter Commercial 2007 Kerrisdale   \n",
       "5 Break and Enter Commercial 2006 Kerrisdale   \n",
       "6 Break and Enter Commercial 2020 Kerrisdale   "
      ]
     },
     "metadata": {},
     "output_type": "display_data"
    },
    {
     "data": {
      "text/html": [
       "<table class=\"dataframe\">\n",
       "<caption>A tibble: 6 × 3</caption>\n",
       "<thead>\n",
       "\t<tr><th scope=col>TYPE</th><th scope=col>YEAR</th><th scope=col>NEIGHBOURHOOD</th></tr>\n",
       "\t<tr><th scope=col>&lt;chr&gt;</th><th scope=col>&lt;dbl&gt;</th><th scope=col>&lt;chr&gt;</th></tr>\n",
       "</thead>\n",
       "<tbody>\n",
       "\t<tr><td>Vehicle Collision or Pedestrian Struck (with Injury)</td><td>2022</td><td>Strathcona</td></tr>\n",
       "\t<tr><td>Vehicle Collision or Pedestrian Struck (with Injury)</td><td>2013</td><td>Strathcona</td></tr>\n",
       "\t<tr><td>Vehicle Collision or Pedestrian Struck (with Injury)</td><td>2018</td><td>Strathcona</td></tr>\n",
       "\t<tr><td>Vehicle Collision or Pedestrian Struck (with Injury)</td><td>2022</td><td>Strathcona</td></tr>\n",
       "\t<tr><td>Vehicle Collision or Pedestrian Struck (with Injury)</td><td>2023</td><td>Strathcona</td></tr>\n",
       "\t<tr><td>Vehicle Collision or Pedestrian Struck (with Injury)</td><td>2013</td><td>Strathcona</td></tr>\n",
       "</tbody>\n",
       "</table>\n"
      ],
      "text/latex": [
       "A tibble: 6 × 3\n",
       "\\begin{tabular}{lll}\n",
       " TYPE & YEAR & NEIGHBOURHOOD\\\\\n",
       " <chr> & <dbl> & <chr>\\\\\n",
       "\\hline\n",
       "\t Vehicle Collision or Pedestrian Struck (with Injury) & 2022 & Strathcona\\\\\n",
       "\t Vehicle Collision or Pedestrian Struck (with Injury) & 2013 & Strathcona\\\\\n",
       "\t Vehicle Collision or Pedestrian Struck (with Injury) & 2018 & Strathcona\\\\\n",
       "\t Vehicle Collision or Pedestrian Struck (with Injury) & 2022 & Strathcona\\\\\n",
       "\t Vehicle Collision or Pedestrian Struck (with Injury) & 2023 & Strathcona\\\\\n",
       "\t Vehicle Collision or Pedestrian Struck (with Injury) & 2013 & Strathcona\\\\\n",
       "\\end{tabular}\n"
      ],
      "text/markdown": [
       "\n",
       "A tibble: 6 × 3\n",
       "\n",
       "| TYPE &lt;chr&gt; | YEAR &lt;dbl&gt; | NEIGHBOURHOOD &lt;chr&gt; |\n",
       "|---|---|---|\n",
       "| Vehicle Collision or Pedestrian Struck (with Injury) | 2022 | Strathcona |\n",
       "| Vehicle Collision or Pedestrian Struck (with Injury) | 2013 | Strathcona |\n",
       "| Vehicle Collision or Pedestrian Struck (with Injury) | 2018 | Strathcona |\n",
       "| Vehicle Collision or Pedestrian Struck (with Injury) | 2022 | Strathcona |\n",
       "| Vehicle Collision or Pedestrian Struck (with Injury) | 2023 | Strathcona |\n",
       "| Vehicle Collision or Pedestrian Struck (with Injury) | 2013 | Strathcona |\n",
       "\n"
      ],
      "text/plain": [
       "  TYPE                                                 YEAR NEIGHBOURHOOD\n",
       "1 Vehicle Collision or Pedestrian Struck (with Injury) 2022 Strathcona   \n",
       "2 Vehicle Collision or Pedestrian Struck (with Injury) 2013 Strathcona   \n",
       "3 Vehicle Collision or Pedestrian Struck (with Injury) 2018 Strathcona   \n",
       "4 Vehicle Collision or Pedestrian Struck (with Injury) 2022 Strathcona   \n",
       "5 Vehicle Collision or Pedestrian Struck (with Injury) 2023 Strathcona   \n",
       "6 Vehicle Collision or Pedestrian Struck (with Injury) 2013 Strathcona   "
      ]
     },
     "metadata": {},
     "output_type": "display_data"
    }
   ],
   "source": [
    "# Load the data from the web\n",
    "kerris_url <- \"https://drive.google.com/uc?export=download&id=1XOj_2FTc-0lW5-8RX9lRBOgzX5A2IMet\"\n",
    "strath_url <- \"https://drive.google.com/uc?export=download&id=1wXQ8W3kBSo7ija-mhUzCVPbShviQHLNt\"\n",
    "kerrisdale_data <- read_csv(kerris_url) \n",
    "strathcona_data <- read_csv(strath_url)\n",
    "\n",
    "# Merge the two data frames into a single data frame:\n",
    "crime <- rbind(kerrisdale_data, strathcona_data)\n",
    "\n",
    "# Select only relevant columns to our study\n",
    "crime <- select(crime, c(TYPE, YEAR, NEIGHBOURHOOD))\n",
    "\n",
    "print(\"Table 1: 2003-2023 Crime Data in Kerrisdale and Stratcona\")\n",
    "head(crime)\n",
    "tail(crime)"
   ]
  },
  {
   "cell_type": "markdown",
   "id": "8aabeda0-7cd5-4d76-b238-4558a63b1b24",
   "metadata": {},
   "source": [
    "#### Cleaning and Wrangling Data\n",
    "We tidy our data so it follows a consistent format that functions in tidyverse will recognize. We can mutate 'NEIGHBOURHOOD' to be a factor to make visualizations and exploratory analysis easier."
   ]
  },
  {
   "cell_type": "code",
   "execution_count": 22,
   "id": "ffed4bd2-6a8d-448f-9d4e-c5ff0462ca5f",
   "metadata": {
    "tags": []
   },
   "outputs": [
    {
     "name": "stdout",
     "output_type": "stream",
     "text": [
      "[1] \"Table 2: Tidy Tennis Data\"\n"
     ]
    },
    {
     "data": {
      "text/html": [
       "<table class=\"dataframe\">\n",
       "<caption>A tibble: 6 × 3</caption>\n",
       "<thead>\n",
       "\t<tr><th scope=col>TYPE</th><th scope=col>YEAR</th><th scope=col>NEIGHBOURHOOD</th></tr>\n",
       "\t<tr><th scope=col>&lt;chr&gt;</th><th scope=col>&lt;dbl&gt;</th><th scope=col>&lt;fct&gt;</th></tr>\n",
       "</thead>\n",
       "<tbody>\n",
       "\t<tr><td>Break and Enter Commercial</td><td>2017</td><td>Kerrisdale</td></tr>\n",
       "\t<tr><td>Break and Enter Commercial</td><td>2020</td><td>Kerrisdale</td></tr>\n",
       "\t<tr><td>Break and Enter Commercial</td><td>2020</td><td>Kerrisdale</td></tr>\n",
       "\t<tr><td>Break and Enter Commercial</td><td>2007</td><td>Kerrisdale</td></tr>\n",
       "\t<tr><td>Break and Enter Commercial</td><td>2006</td><td>Kerrisdale</td></tr>\n",
       "\t<tr><td>Break and Enter Commercial</td><td>2020</td><td>Kerrisdale</td></tr>\n",
       "</tbody>\n",
       "</table>\n"
      ],
      "text/latex": [
       "A tibble: 6 × 3\n",
       "\\begin{tabular}{lll}\n",
       " TYPE & YEAR & NEIGHBOURHOOD\\\\\n",
       " <chr> & <dbl> & <fct>\\\\\n",
       "\\hline\n",
       "\t Break and Enter Commercial & 2017 & Kerrisdale\\\\\n",
       "\t Break and Enter Commercial & 2020 & Kerrisdale\\\\\n",
       "\t Break and Enter Commercial & 2020 & Kerrisdale\\\\\n",
       "\t Break and Enter Commercial & 2007 & Kerrisdale\\\\\n",
       "\t Break and Enter Commercial & 2006 & Kerrisdale\\\\\n",
       "\t Break and Enter Commercial & 2020 & Kerrisdale\\\\\n",
       "\\end{tabular}\n"
      ],
      "text/markdown": [
       "\n",
       "A tibble: 6 × 3\n",
       "\n",
       "| TYPE &lt;chr&gt; | YEAR &lt;dbl&gt; | NEIGHBOURHOOD &lt;fct&gt; |\n",
       "|---|---|---|\n",
       "| Break and Enter Commercial | 2017 | Kerrisdale |\n",
       "| Break and Enter Commercial | 2020 | Kerrisdale |\n",
       "| Break and Enter Commercial | 2020 | Kerrisdale |\n",
       "| Break and Enter Commercial | 2007 | Kerrisdale |\n",
       "| Break and Enter Commercial | 2006 | Kerrisdale |\n",
       "| Break and Enter Commercial | 2020 | Kerrisdale |\n",
       "\n"
      ],
      "text/plain": [
       "  TYPE                       YEAR NEIGHBOURHOOD\n",
       "1 Break and Enter Commercial 2017 Kerrisdale   \n",
       "2 Break and Enter Commercial 2020 Kerrisdale   \n",
       "3 Break and Enter Commercial 2020 Kerrisdale   \n",
       "4 Break and Enter Commercial 2007 Kerrisdale   \n",
       "5 Break and Enter Commercial 2006 Kerrisdale   \n",
       "6 Break and Enter Commercial 2020 Kerrisdale   "
      ]
     },
     "metadata": {},
     "output_type": "display_data"
    }
   ],
   "source": [
    "#Here we will mutate NEIGHBOURHOOD to a factor so we can visulaize it easier \n",
    "crime_mutate <- crime |>\n",
    "mutate(NEIGHBOURHOOD = as_factor(NEIGHBOURHOOD))\n",
    "\n",
    "\n",
    "\n",
    "print(\"Table 2: Tidy Tennis Data\")\n",
    "head(crime_mutate)"
   ]
  },
  {
   "cell_type": "markdown",
   "id": "ed52071c-d8ab-499e-94cb-4a0e3baf44d4",
   "metadata": {},
   "source": [
    "#### Preliminary exploratory data analysis\n",
    "#### Methods\n",
    "#### Expected outcomes and significance:\n",
    "- What do you expect to find?\n",
    "- What impact could such findings have?\n",
    "- What future questions could this lead to?\n",
    "#### References\n",
    "[1] : https://bc.ctvnews.ca/258-arrests-made-in-2-week-period-as-vancouver-police-continue-shoplifting-crackdown-1.6620249\n",
    "\n",
    "[2] : https://www.cbc.ca/news/canada/british-columbia/save-our-streets-seeks-crackdown-on-violent-retail-crimes-1.7013229\n",
    "\n",
    "[3]: https://geodash.vpd.ca/opendata/#   *Source of Our Data\n",
    "\n",
    "[4]: https://en.wikipedia.org/wiki/Downtown_Eastside#:~:text=The%20Downtown%20Eastside%20(DTES)%20is,mental%20illness%20and%20sex%20work.\n",
    "\n",
    "[5]: https://www.cbc.ca/news/canada/british-columbia/weighing-in-on-future-of-vancouver-s-downtown-eastside-1.1356400\n",
    "\n",
    "[6]: https://www.thebestvancouver.com/where-do-rich-in-vancouver-live/\n",
    "\n",
    "[7]: https://www.cantechletter.com/2023/07/the-five-wealthiest-neighbourhoods-in-vancouver-listed/\n",
    "\n"
   ]
  }
 ],
 "metadata": {
  "kernelspec": {
   "display_name": "R",
   "language": "R",
   "name": "ir"
  },
  "language_info": {
   "codemirror_mode": "r",
   "file_extension": ".r",
   "mimetype": "text/x-r-source",
   "name": "R",
   "pygments_lexer": "r",
   "version": "4.2.3"
  }
 },
 "nbformat": 4,
 "nbformat_minor": 5
}
